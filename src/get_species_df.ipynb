{
 "cells": [
  {
   "cell_type": "code",
   "execution_count": 11,
   "metadata": {},
   "outputs": [],
   "source": [
    "from pathlib import Path\n",
    "import pandas as pd\n",
    "import numpy as np"
   ]
  },
  {
   "cell_type": "code",
   "execution_count": 12,
   "metadata": {},
   "outputs": [
    {
     "name": "stdout",
     "output_type": "stream",
     "text": [
      "/home/bippw1/bipp/ncount/sentinel-2-grab/data/processed/model_df.parquet\n"
     ]
    }
   ],
   "source": [
    "dir_path = Path.cwd().parent\n",
    "data_folder = dir_path.joinpath(\"data\")\n",
    "models_folder = dir_path.joinpath(\"data/models\")\n",
    "\n",
    "west_low_species = [12, 11, 8, 7, 6, 5, 4, 3, 1] #target\n",
    "mid_line_species = [13, 10, 9, 2, 0] #control\n",
    "\n",
    "model_df = data_folder.joinpath(\"processed/model_df.parquet\")\n",
    "species_dict_path = data_folder.joinpath(\"species.json\")\n",
    "\n",
    "print(model_df)"
   ]
  },
  {
   "cell_type": "code",
   "execution_count": 13,
   "metadata": {},
   "outputs": [],
   "source": [
    "def get_species(target: int, control: int, out_folder: Path):\n",
    "    out_file_name = f\"{target}_{control}.parquet\"\n",
    "    out_path = out_folder.joinpath(out_file_name)\n",
    "    if not out_path.exists():\n",
    "        print(f\"{target}_{control}: Createing Model Frame\")\n",
    "        df = pd.read_parquet(model_df)\n",
    "\n",
    "        df_species_filtered = df[df[\"species\"].isin([target, control])]\n",
    "\n",
    "        df_species_filtered[\"species\"] = np.where(\n",
    "            df_species_filtered[\"species\"] == target, 1, 0\n",
    "        )\n",
    "\n",
    "        df_species_filtered.to_parquet(out_path)"
   ]
  },
  {
   "cell_type": "code",
   "execution_count": 14,
   "metadata": {},
   "outputs": [
    {
     "name": "stdout",
     "output_type": "stream",
     "text": [
      "12_13: Createing Model Frame\n"
     ]
    },
    {
     "name": "stderr",
     "output_type": "stream",
     "text": [
      "/tmp/ipykernel_111973/1391389960.py:10: SettingWithCopyWarning: \n",
      "A value is trying to be set on a copy of a slice from a DataFrame.\n",
      "Try using .loc[row_indexer,col_indexer] = value instead\n",
      "\n",
      "See the caveats in the documentation: https://pandas.pydata.org/pandas-docs/stable/user_guide/indexing.html#returning-a-view-versus-a-copy\n",
      "  df_species_filtered[\"species\"] = np.where(\n"
     ]
    },
    {
     "name": "stdout",
     "output_type": "stream",
     "text": [
      "12_10: Createing Model Frame\n",
      "12_9: Createing Model Frame\n",
      "12_2: Createing Model Frame\n",
      "12_0: Createing Model Frame\n",
      "11_13: Createing Model Frame\n",
      "11_10: Createing Model Frame\n",
      "11_9: Createing Model Frame\n",
      "11_2: Createing Model Frame\n",
      "11_0: Createing Model Frame\n",
      "8_13: Createing Model Frame\n",
      "8_10: Createing Model Frame\n",
      "8_9: Createing Model Frame\n",
      "8_2: Createing Model Frame\n",
      "8_0: Createing Model Frame\n",
      "7_13: Createing Model Frame\n",
      "7_10: Createing Model Frame\n",
      "7_9: Createing Model Frame\n",
      "7_2: Createing Model Frame\n",
      "7_0: Createing Model Frame\n",
      "6_13: Createing Model Frame\n",
      "6_10: Createing Model Frame\n",
      "6_9: Createing Model Frame\n",
      "6_2: Createing Model Frame\n",
      "6_0: Createing Model Frame\n",
      "5_13: Createing Model Frame\n",
      "5_10: Createing Model Frame\n",
      "5_9: Createing Model Frame\n",
      "5_2: Createing Model Frame\n",
      "5_0: Createing Model Frame\n",
      "4_13: Createing Model Frame\n",
      "4_10: Createing Model Frame\n",
      "4_9: Createing Model Frame\n",
      "4_2: Createing Model Frame\n",
      "4_0: Createing Model Frame\n",
      "3_13: Createing Model Frame\n",
      "3_10: Createing Model Frame\n",
      "3_9: Createing Model Frame\n",
      "3_2: Createing Model Frame\n",
      "3_0: Createing Model Frame\n",
      "1_13: Createing Model Frame\n",
      "1_10: Createing Model Frame\n",
      "1_9: Createing Model Frame\n",
      "1_2: Createing Model Frame\n",
      "1_0: Createing Model Frame\n"
     ]
    }
   ],
   "source": [
    "\n",
    "\n",
    "for target in west_low_species:\n",
    "    for control in mid_line_species:\n",
    "        # Creating a species based folder to hold the model and related outputs\n",
    "        species_folder = models_folder.joinpath(f\"{target}_{control}\")\n",
    "        if not species_folder.exists():\n",
    "            species_folder.mkdir(parents=True)\n",
    "\n",
    "        get_species(target=target, control=control, out_folder=species_folder)"
   ]
  },
  {
   "cell_type": "code",
   "execution_count": null,
   "metadata": {},
   "outputs": [],
   "source": []
  }
 ],
 "metadata": {
  "kernelspec": {
   "display_name": "sent2",
   "language": "python",
   "name": "python3"
  },
  "language_info": {
   "codemirror_mode": {
    "name": "ipython",
    "version": 3
   },
   "file_extension": ".py",
   "mimetype": "text/x-python",
   "name": "python",
   "nbconvert_exporter": "python",
   "pygments_lexer": "ipython3",
   "version": "3.10.12"
  }
 },
 "nbformat": 4,
 "nbformat_minor": 2
}
