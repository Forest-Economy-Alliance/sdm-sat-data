{
 "cells": [
  {
   "cell_type": "code",
   "execution_count": 2,
   "metadata": {},
   "outputs": [],
   "source": [
    "from pathlib import Path\n",
    "import pandas as pd\n",
    "import numpy as np"
   ]
  },
  {
   "cell_type": "code",
   "execution_count": 2,
   "metadata": {},
   "outputs": [
    {
     "name": "stdout",
     "output_type": "stream",
     "text": [
      "/home/bippw1/bipp/ncount/sentinel-2-grab/data/processed/model_df_2024.parquet\n"
     ]
    }
   ],
   "source": [
    "dir_path = Path.cwd().parent\n",
    "data_folder = dir_path.joinpath(\"data\")\n",
    "models_folder = dir_path.joinpath(\"data/models/2024\")\n",
    "\n",
    "# west_low_species = [12, 11, 8, 7, 6, 5, 4, 3, 1] #target\n",
    "# mid_line_species = [13, 10, 9, 2, 0] #control\n",
    "\n",
    "west_low_species = [8] #target\n",
    "mid_line_species = [12, 10] #control\n",
    "\n",
    "model_df = data_folder.joinpath(\"processed/model_df_2024.parquet\")\n",
    "\n",
    "print(model_df)"
   ]
  },
  {
   "cell_type": "code",
   "execution_count": 12,
   "metadata": {},
   "outputs": [],
   "source": [
    "# def rhodo_balance(data_frame):\n",
    "#     \"\"\"Ensuring pine is limited to 3x of Rhododendron count\"\"\"\n",
    "#     #rhododendron = 28,590\n",
    "\n",
    "#     rhodo_df = data_frame[data_frame['species']==0]\n",
    "#     pine_df = data_frame[data_frame['species']==1]\n",
    "\n",
    "#     set_seed = 4526\n",
    "#     pine_df_holder = []\n",
    "#     for pine_id, pine_df in pine_df.groupby('year'):\n",
    "#         sampled_pine_df = []\n",
    "\n",
    "#         sampled_pine_df = pine_df.sample(n=14000, random_state=set_seed).reset_index(drop=True)\n",
    "\n",
    "#         pine_df_holder.append(sampled_pine_df)\n",
    "\n",
    "#     pine_model_df = pd.concat(pine_df_holder, axis=0)\n",
    "#     final_df = pd.concat([pine_model_df, rhodo_df])\n",
    "#     return final_df"
   ]
  },
  {
   "cell_type": "code",
   "execution_count": 3,
   "metadata": {},
   "outputs": [],
   "source": [
    "def get_species(target: int, control: int, out_folder: Path):\n",
    "    out_file_name = f\"{target}_{control}.parquet\"\n",
    "    out_path = out_folder.joinpath(out_file_name)\n",
    "\n",
    "    print(f\"{target}_{control}: Createing Model Frame\")\n",
    "    df = pd.read_parquet(model_df)\n",
    "\n",
    "    df_species_filtered = df[df[\"species\"].isin([target, control])]\n",
    "\n",
    "    df_species_filtered[\"species\"] = np.where(\n",
    "        df_species_filtered[\"species\"] == target, 1, 0\n",
    "    )\n",
    "\n",
    "    print(df_species_filtered['species'].value_counts())\n",
    "\n",
    "    # if control == 10:\n",
    "    #     df_species_filtered = rhodo_balance(df_species_filtered)\n",
    "    \n",
    "    df_species_filtered.to_parquet(out_path, index=False)\n",
    "\n",
    "    # print(df_species_filtered)\n",
    "        "
   ]
  },
  {
   "cell_type": "code",
   "execution_count": 4,
   "metadata": {},
   "outputs": [
    {
     "name": "stdout",
     "output_type": "stream",
     "text": [
      "8_12: Createing Model Frame\n",
      "species\n",
      "1    5000\n",
      "0    5000\n",
      "Name: count, dtype: int64\n",
      "8_10: Createing Model Frame\n",
      "species\n",
      "1    5000\n",
      "0    4765\n",
      "Name: count, dtype: int64\n"
     ]
    },
    {
     "name": "stderr",
     "output_type": "stream",
     "text": [
      "/tmp/ipykernel_14494/3497029953.py:10: SettingWithCopyWarning: \n",
      "A value is trying to be set on a copy of a slice from a DataFrame.\n",
      "Try using .loc[row_indexer,col_indexer] = value instead\n",
      "\n",
      "See the caveats in the documentation: https://pandas.pydata.org/pandas-docs/stable/user_guide/indexing.html#returning-a-view-versus-a-copy\n",
      "  df_species_filtered[\"species\"] = np.where(\n"
     ]
    }
   ],
   "source": [
    "\n",
    "\n",
    "for target in west_low_species:\n",
    "    for control in mid_line_species:\n",
    "        # Creating a species based folder to hold the model and related outputs\n",
    "        species_folder = models_folder.joinpath(f\"{target}_{control}\")\n",
    "        if not species_folder.exists():\n",
    "            species_folder.mkdir(parents=True)\n",
    "\n",
    "        get_species(target=target, control=control, out_folder=species_folder)"
   ]
  },
  {
   "cell_type": "code",
   "execution_count": null,
   "metadata": {},
   "outputs": [],
   "source": []
  }
 ],
 "metadata": {
  "kernelspec": {
   "display_name": "sent2",
   "language": "python",
   "name": "python3"
  },
  "language_info": {
   "codemirror_mode": {
    "name": "ipython",
    "version": 3
   },
   "file_extension": ".py",
   "mimetype": "text/x-python",
   "name": "python",
   "nbconvert_exporter": "python",
   "pygments_lexer": "ipython3",
   "version": "3.10.12"
  }
 },
 "nbformat": 4,
 "nbformat_minor": 2
}
